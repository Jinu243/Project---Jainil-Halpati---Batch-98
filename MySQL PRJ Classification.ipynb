{
 "cells": [
  {
   "cell_type": "code",
   "execution_count": 22,
   "id": "63a61a20-6f32-4359-a17f-7431ff693e1c",
   "metadata": {},
   "outputs": [],
   "source": [
    "import pandas as pd\n",
    "from sklearn.neighbors import KNeighborsClassifier\n",
    "from sklearn.metrics import accuracy_score\n",
    "import matplotlib.pyplot as plt\n",
    "import numpy as np\n",
    "from matplotlib.pylab import rcParams\n",
    "rcParams['figure.figsize'] = 20, 10\n",
    "import mysql.connector as connection\n",
    "from sklearn.preprocessing import MinMaxScaler\n",
    "from sklearn.model_selection import train_test_split\n",
    "from sklearn.metrics import classification_report\n",
    "from sklearn.tree import DecisionTreeClassifier\n",
    "from sklearn.ensemble import RandomForestClassifier\n",
    "from sklearn.linear_model import LogisticRegression\n",
    "from sklearn.metrics import confusion_matrix "
   ]
  },
  {
   "cell_type": "code",
   "execution_count": 2,
   "id": "57a2d36c-365b-49f3-96e8-02542d000b0a",
   "metadata": {},
   "outputs": [],
   "source": [
    "sql= \"select * from acc_ord_card_disp_client_dist aocdcd join loan_trans lt on lt.account_id= aocdcd.account_id\" "
   ]
  },
  {
   "cell_type": "code",
   "execution_count": 3,
   "id": "db14ea12-bd69-4475-b203-ba6a1ad70f38",
   "metadata": {},
   "outputs": [
    {
     "name": "stderr",
     "output_type": "stream",
     "text": [
      "C:\\Users\\USER\\AppData\\Local\\Temp\\ipykernel_19752\\1639140124.py:3: UserWarning: pandas only supports SQLAlchemy connectable (engine/connection) or database string URI or sqlite3 DBAPI2 connection. Other DBAPI2 objects are not tested. Please consider using SQLAlchemy.\n",
      "  df = pd.read_sql(sql,mydb)\n"
     ]
    }
   ],
   "source": [
    "try:\n",
    "    mydb = connection.connect(host=\"localhost\", database = 'capstone_prj',user=\"root\", passwd=\"Jinu@2410\",use_pure=True)\n",
    "    df = pd.read_sql(sql,mydb)\n",
    "    mydb.close() #close the connection\n",
    "except Exception as e:\n",
    "    mydb.close()\n",
    "    print(str(e))"
   ]
  },
  {
   "cell_type": "code",
   "execution_count": 4,
   "id": "b9309646-3cb9-405f-84b0-c4331e375594",
   "metadata": {},
   "outputs": [
    {
     "data": {
      "text/html": [
       "<div>\n",
       "<style scoped>\n",
       "    .dataframe tbody tr th:only-of-type {\n",
       "        vertical-align: middle;\n",
       "    }\n",
       "\n",
       "    .dataframe tbody tr th {\n",
       "        vertical-align: top;\n",
       "    }\n",
       "\n",
       "    .dataframe thead th {\n",
       "        text-align: right;\n",
       "    }\n",
       "</style>\n",
       "<table border=\"1\" class=\"dataframe\">\n",
       "  <thead>\n",
       "    <tr style=\"text-align: right;\">\n",
       "      <th></th>\n",
       "      <th>card_id</th>\n",
       "      <th>disp_id</th>\n",
       "      <th>type</th>\n",
       "      <th>issued</th>\n",
       "      <th>account_id</th>\n",
       "      <th>disposition_client_id</th>\n",
       "      <th>disposition_type</th>\n",
       "      <th>client_id</th>\n",
       "      <th>birth_number</th>\n",
       "      <th>district_id</th>\n",
       "      <th>...</th>\n",
       "      <th>balance</th>\n",
       "      <th>k_symbol</th>\n",
       "      <th>bank</th>\n",
       "      <th>account</th>\n",
       "      <th>loan_id</th>\n",
       "      <th>loan_date</th>\n",
       "      <th>loan_amount</th>\n",
       "      <th>duration</th>\n",
       "      <th>payments</th>\n",
       "      <th>status</th>\n",
       "    </tr>\n",
       "  </thead>\n",
       "  <tbody>\n",
       "    <tr>\n",
       "      <th>0</th>\n",
       "      <td>352</td>\n",
       "      <td>2235</td>\n",
       "      <td>classic</td>\n",
       "      <td>980911 00:00:00</td>\n",
       "      <td>1843</td>\n",
       "      <td>2235</td>\n",
       "      <td>OWNER</td>\n",
       "      <td>2235</td>\n",
       "      <td>405420</td>\n",
       "      <td>14</td>\n",
       "      <td>...</td>\n",
       "      <td>19916.6</td>\n",
       "      <td>UROK</td>\n",
       "      <td></td>\n",
       "      <td></td>\n",
       "      <td>5325</td>\n",
       "      <td>930803</td>\n",
       "      <td>105804</td>\n",
       "      <td>36</td>\n",
       "      <td>2939.0</td>\n",
       "      <td>A</td>\n",
       "    </tr>\n",
       "    <tr>\n",
       "      <th>1</th>\n",
       "      <td>352</td>\n",
       "      <td>2235</td>\n",
       "      <td>classic</td>\n",
       "      <td>980911 00:00:00</td>\n",
       "      <td>1843</td>\n",
       "      <td>2235</td>\n",
       "      <td>OWNER</td>\n",
       "      <td>2235</td>\n",
       "      <td>405420</td>\n",
       "      <td>14</td>\n",
       "      <td>...</td>\n",
       "      <td>26099.1</td>\n",
       "      <td></td>\n",
       "      <td></td>\n",
       "      <td></td>\n",
       "      <td>5325</td>\n",
       "      <td>930803</td>\n",
       "      <td>105804</td>\n",
       "      <td>36</td>\n",
       "      <td>2939.0</td>\n",
       "      <td>A</td>\n",
       "    </tr>\n",
       "    <tr>\n",
       "      <th>2</th>\n",
       "      <td>352</td>\n",
       "      <td>2235</td>\n",
       "      <td>classic</td>\n",
       "      <td>980911 00:00:00</td>\n",
       "      <td>1843</td>\n",
       "      <td>2235</td>\n",
       "      <td>OWNER</td>\n",
       "      <td>2235</td>\n",
       "      <td>405420</td>\n",
       "      <td>14</td>\n",
       "      <td>...</td>\n",
       "      <td>19799.1</td>\n",
       "      <td></td>\n",
       "      <td></td>\n",
       "      <td></td>\n",
       "      <td>5325</td>\n",
       "      <td>930803</td>\n",
       "      <td>105804</td>\n",
       "      <td>36</td>\n",
       "      <td>2939.0</td>\n",
       "      <td>A</td>\n",
       "    </tr>\n",
       "    <tr>\n",
       "      <th>3</th>\n",
       "      <td>352</td>\n",
       "      <td>2235</td>\n",
       "      <td>classic</td>\n",
       "      <td>980911 00:00:00</td>\n",
       "      <td>1843</td>\n",
       "      <td>2235</td>\n",
       "      <td>OWNER</td>\n",
       "      <td>2235</td>\n",
       "      <td>405420</td>\n",
       "      <td>14</td>\n",
       "      <td>...</td>\n",
       "      <td>24499.1</td>\n",
       "      <td>SIPO</td>\n",
       "      <td>QR</td>\n",
       "      <td>62958741</td>\n",
       "      <td>5325</td>\n",
       "      <td>930803</td>\n",
       "      <td>105804</td>\n",
       "      <td>36</td>\n",
       "      <td>2939.0</td>\n",
       "      <td>A</td>\n",
       "    </tr>\n",
       "    <tr>\n",
       "      <th>4</th>\n",
       "      <td>352</td>\n",
       "      <td>2235</td>\n",
       "      <td>classic</td>\n",
       "      <td>980911 00:00:00</td>\n",
       "      <td>1843</td>\n",
       "      <td>2235</td>\n",
       "      <td>OWNER</td>\n",
       "      <td>2235</td>\n",
       "      <td>405420</td>\n",
       "      <td>14</td>\n",
       "      <td>...</td>\n",
       "      <td>31493.1</td>\n",
       "      <td>UVER</td>\n",
       "      <td>QR</td>\n",
       "      <td>70984434</td>\n",
       "      <td>5325</td>\n",
       "      <td>930803</td>\n",
       "      <td>105804</td>\n",
       "      <td>36</td>\n",
       "      <td>2939.0</td>\n",
       "      <td>A</td>\n",
       "    </tr>\n",
       "  </tbody>\n",
       "</table>\n",
       "<p>5 rows × 50 columns</p>\n",
       "</div>"
      ],
      "text/plain": [
       "   card_id  disp_id     type           issued  account_id  \\\n",
       "0      352     2235  classic  980911 00:00:00        1843   \n",
       "1      352     2235  classic  980911 00:00:00        1843   \n",
       "2      352     2235  classic  980911 00:00:00        1843   \n",
       "3      352     2235  classic  980911 00:00:00        1843   \n",
       "4      352     2235  classic  980911 00:00:00        1843   \n",
       "\n",
       "   disposition_client_id disposition_type  client_id  birth_number  \\\n",
       "0                   2235            OWNER       2235        405420   \n",
       "1                   2235            OWNER       2235        405420   \n",
       "2                   2235            OWNER       2235        405420   \n",
       "3                   2235            OWNER       2235        405420   \n",
       "4                   2235            OWNER       2235        405420   \n",
       "\n",
       "   district_id  ...  balance k_symbol bank   account  loan_id  loan_date  \\\n",
       "0           14  ...  19916.6     UROK                    5325     930803   \n",
       "1           14  ...  26099.1                             5325     930803   \n",
       "2           14  ...  19799.1                             5325     930803   \n",
       "3           14  ...  24499.1     SIPO   QR  62958741     5325     930803   \n",
       "4           14  ...  31493.1     UVER   QR  70984434     5325     930803   \n",
       "\n",
       "   loan_amount  duration  payments  status  \n",
       "0       105804        36    2939.0       A  \n",
       "1       105804        36    2939.0       A  \n",
       "2       105804        36    2939.0       A  \n",
       "3       105804        36    2939.0       A  \n",
       "4       105804        36    2939.0       A  \n",
       "\n",
       "[5 rows x 50 columns]"
      ]
     },
     "execution_count": 4,
     "metadata": {},
     "output_type": "execute_result"
    }
   ],
   "source": [
    "df.head()"
   ]
  },
  {
   "cell_type": "code",
   "execution_count": 5,
   "id": "bebc8ef8-864d-4a98-addd-833f0e3218dc",
   "metadata": {},
   "outputs": [
    {
     "data": {
      "text/plain": [
       "(868, 50)"
      ]
     },
     "execution_count": 5,
     "metadata": {},
     "output_type": "execute_result"
    }
   ],
   "source": [
    "df.shape"
   ]
  },
  {
   "cell_type": "code",
   "execution_count": 6,
   "id": "e27d89b3-1e10-4368-8615-9c81bc2a79eb",
   "metadata": {},
   "outputs": [
    {
     "data": {
      "text/plain": [
       "Index(['card_id', 'disp_id', 'type', 'issued', 'account_id',\n",
       "       'disposition_client_id', 'disposition_type', 'client_id',\n",
       "       'birth_number', 'district_id', 'A1', 'A2', 'A3', 'A4', 'A5', 'A6', 'A7',\n",
       "       'A8', 'A9', 'A10', 'A11', 'A12', 'A13', 'A14', 'A15', 'A16', 'order_id',\n",
       "       'bank_to', 'account_to', 'amount', 'k_symbol', 'account_date',\n",
       "       'account_district_id', 'frequency', 'trans_id', 'account_id', 'date',\n",
       "       'type', 'operation', 'amount', 'balance', 'k_symbol', 'bank', 'account',\n",
       "       'loan_id', 'loan_date', 'loan_amount', 'duration', 'payments',\n",
       "       'status'],\n",
       "      dtype='object')"
      ]
     },
     "execution_count": 6,
     "metadata": {},
     "output_type": "execute_result"
    }
   ],
   "source": [
    "df.columns"
   ]
  },
  {
   "cell_type": "code",
   "execution_count": 7,
   "id": "76e1e024-3374-491d-8bd6-7d6215fd53a5",
   "metadata": {},
   "outputs": [
    {
     "data": {
      "text/plain": [
       "card_id                  0\n",
       "disp_id                  0\n",
       "type                     0\n",
       "issued                   0\n",
       "account_id               0\n",
       "disposition_client_id    0\n",
       "disposition_type         0\n",
       "client_id                0\n",
       "birth_number             0\n",
       "district_id              0\n",
       "A1                       0\n",
       "A2                       0\n",
       "A3                       0\n",
       "A4                       0\n",
       "A5                       0\n",
       "A6                       0\n",
       "A7                       0\n",
       "A8                       0\n",
       "A9                       0\n",
       "A10                      0\n",
       "A11                      0\n",
       "A12                      0\n",
       "A13                      0\n",
       "A14                      0\n",
       "A15                      0\n",
       "A16                      0\n",
       "order_id                 0\n",
       "bank_to                  0\n",
       "account_to               0\n",
       "amount                   0\n",
       "k_symbol                 0\n",
       "account_date             0\n",
       "account_district_id      0\n",
       "frequency                0\n",
       "trans_id                 0\n",
       "account_id               0\n",
       "date                     0\n",
       "type                     0\n",
       "operation                0\n",
       "amount                   0\n",
       "balance                  0\n",
       "k_symbol                 0\n",
       "bank                     0\n",
       "account                  0\n",
       "loan_id                  0\n",
       "loan_date                0\n",
       "loan_amount              0\n",
       "duration                 0\n",
       "payments                 0\n",
       "status                   0\n",
       "dtype: int64"
      ]
     },
     "execution_count": 7,
     "metadata": {},
     "output_type": "execute_result"
    }
   ],
   "source": [
    "df.isnull().sum()"
   ]
  },
  {
   "cell_type": "code",
   "execution_count": 8,
   "id": "2eca8dc7-1442-4578-82dc-6a1832eaa60b",
   "metadata": {},
   "outputs": [
    {
     "data": {
      "text/plain": [
       "status\n",
       "A    648\n",
       "B    168\n",
       "C     51\n",
       "D      1\n",
       "Name: count, dtype: int64"
      ]
     },
     "execution_count": 8,
     "metadata": {},
     "output_type": "execute_result"
    }
   ],
   "source": [
    "df.status.value_counts()"
   ]
  },
  {
   "cell_type": "code",
   "execution_count": 9,
   "id": "2f6b3024-bdfb-455a-ae41-7d4b9665cc28",
   "metadata": {},
   "outputs": [
    {
     "data": {
      "text/plain": [
       "0      0\n",
       "1      0\n",
       "2      0\n",
       "3      0\n",
       "4      0\n",
       "      ..\n",
       "863    0\n",
       "864    0\n",
       "865    0\n",
       "866    0\n",
       "867    0\n",
       "Name: status, Length: 868, dtype: int64"
      ]
     },
     "metadata": {},
     "output_type": "display_data"
    }
   ],
   "source": [
    "df.status = pd.DataFrame(df.status.map({'A': 0, 'B': 1, 'C': 2, 'D': 3}),\n",
    "                         columns=['status'])\n",
    "display(df.status)"
   ]
  },
  {
   "cell_type": "code",
   "execution_count": 10,
   "id": "1a3d0600-55b4-4fa5-a364-5f18f51989e9",
   "metadata": {},
   "outputs": [
    {
     "data": {
      "text/plain": [
       "status\n",
       "0    648\n",
       "1    168\n",
       "2     51\n",
       "3      1\n",
       "Name: count, dtype: int64"
      ]
     },
     "metadata": {},
     "output_type": "display_data"
    }
   ],
   "source": [
    "display (df.status.value_counts())"
   ]
  },
  {
   "cell_type": "code",
   "execution_count": 11,
   "id": "3ba96e42-c34a-47ff-a837-6f2962bf7cc3",
   "metadata": {},
   "outputs": [
    {
     "data": {
      "text/plain": [
       "array([[1.05804e+05, 3.60000e+01, 2.93900e+03],\n",
       "       [1.05804e+05, 3.60000e+01, 2.93900e+03],\n",
       "       [1.05804e+05, 3.60000e+01, 2.93900e+03],\n",
       "       ...,\n",
       "       [8.03400e+04, 1.20000e+01, 6.69500e+03],\n",
       "       [8.03400e+04, 1.20000e+01, 6.69500e+03],\n",
       "       [2.82480e+04, 2.40000e+01, 1.17700e+03]])"
      ]
     },
     "metadata": {},
     "output_type": "display_data"
    }
   ],
   "source": [
    "x=df[['loan_amount','duration','payments']].values\n",
    "display(x)"
   ]
  },
  {
   "cell_type": "code",
   "execution_count": 12,
   "id": "0e987528-be75-4125-8dd4-0840b15ee9f1",
   "metadata": {},
   "outputs": [
    {
     "data": {
      "text/plain": [
       "array([0, 0, 0, 0, 0, 0, 0, 0, 0, 0, 0, 0, 0, 0, 0, 0, 0, 0, 0, 0, 0, 0,\n",
       "       0, 0, 0, 0, 0, 0, 0, 0, 0, 0, 0, 0, 0, 0, 0, 0, 0, 0, 0, 0, 0, 0,\n",
       "       0, 0, 0, 0, 0, 0, 0, 0, 0, 0, 0, 0, 0, 0, 0, 0, 0, 0, 0, 0, 0, 0,\n",
       "       0, 0, 0, 0, 0, 0, 0, 0, 0, 0, 0, 0, 0, 0, 0, 0, 0, 0, 0, 0, 0, 0,\n",
       "       0, 0, 0, 0, 0, 0, 0, 0, 0, 0, 0, 0, 1, 1, 1, 1, 1, 1, 1, 1, 0, 0,\n",
       "       3, 0, 0, 0, 0, 0, 0, 0, 0, 0, 0, 0, 0, 0, 0, 0, 0, 0, 0, 0, 0, 0,\n",
       "       0, 0, 0, 0, 0, 0, 0, 0, 0, 0, 0, 0, 0, 0, 0, 0, 0, 0, 0, 0, 0, 0,\n",
       "       0, 0, 0, 0, 0, 0, 0, 0, 0, 0, 0, 0, 0, 0, 0, 0, 0, 0, 0, 0, 0, 0,\n",
       "       0, 0, 0, 0, 0, 0, 0, 0, 0, 0, 0, 0, 0, 0, 0, 0, 0, 0, 0, 0, 0, 0,\n",
       "       0, 0, 0, 0, 0, 0, 0, 0, 0, 0, 0, 0, 0, 0, 0, 0, 0, 0, 0, 0, 0, 0,\n",
       "       0, 0, 0, 0, 0, 0, 0, 0, 0, 0, 0, 0, 0, 0, 0, 0, 0, 0, 0, 2, 2, 2,\n",
       "       2, 2, 2, 2, 2, 2, 2, 2, 2, 2, 2, 2, 2, 2, 2, 2, 2, 2, 2, 2, 2, 2,\n",
       "       2, 2, 0, 0, 0, 0, 0, 0, 0, 0, 0, 0, 0, 0, 0, 0, 0, 0, 0, 0, 0, 0,\n",
       "       0, 0, 0, 0, 0, 0, 0, 0, 0, 0, 0, 0, 0, 0, 0, 0, 0, 0, 0, 0, 0, 0,\n",
       "       0, 0, 0, 0, 0, 0, 0, 2, 2, 2, 0, 0, 0, 0, 0, 0, 0, 0, 0, 0, 0, 0,\n",
       "       0, 0, 0, 0, 0, 0, 0, 0, 0, 0, 0, 0, 0, 0, 0, 0, 0, 0, 0, 0, 0, 0,\n",
       "       0, 0, 0, 0, 0, 0, 0, 0, 0, 0, 0, 0, 0, 0, 0, 0, 0, 0, 0, 0, 0, 0,\n",
       "       0, 0, 0, 0, 0, 0, 0, 0, 0, 0, 0, 0, 0, 0, 0, 0, 0, 0, 0, 0, 0, 0,\n",
       "       0, 0, 0, 0, 0, 0, 0, 0, 0, 0, 0, 0, 0, 0, 0, 0, 0, 0, 0, 0, 0, 0,\n",
       "       0, 0, 0, 0, 0, 0, 0, 0, 0, 0, 0, 0, 0, 0, 0, 0, 0, 0, 0, 0, 0, 0,\n",
       "       0, 0, 0, 0, 0, 0, 0, 0, 0, 0, 0, 0, 0, 0, 0, 0, 0, 0, 0, 0, 0, 0,\n",
       "       0, 0, 0, 0, 0, 0, 0, 0, 0, 0, 0, 0, 0, 0, 0, 0, 0, 0, 0, 0, 0, 0,\n",
       "       0, 0, 0, 0, 0, 0, 0, 0, 0, 0, 0, 0, 0, 0, 0, 0, 0, 0, 0, 0, 0, 0,\n",
       "       0, 0, 0, 0, 0, 0, 0, 0, 0, 0, 0, 0, 0, 0, 0, 0, 0, 0, 0, 0, 0, 0,\n",
       "       0, 0, 0, 0, 0, 0, 0, 0, 0, 0, 0, 0, 0, 0, 0, 0, 0, 0, 0, 0, 0, 0,\n",
       "       0, 0, 0, 0, 0, 0, 0, 0, 0, 0, 0, 0, 0, 0, 0, 0, 0, 0, 0, 0, 0, 0,\n",
       "       0, 0, 0, 0, 0, 0, 0, 0, 0, 0, 0, 0, 0, 0, 0, 0, 0, 0, 0, 0, 0, 0,\n",
       "       0, 0, 0, 0, 0, 0, 0, 0, 0, 0, 0, 0, 0, 0, 0, 0, 0, 0, 0, 1, 1, 1,\n",
       "       1, 1, 1, 1, 1, 1, 1, 1, 1, 1, 1, 1, 1, 1, 1, 1, 1, 1, 1, 1, 1, 1,\n",
       "       1, 1, 1, 1, 1, 1, 1, 1, 1, 1, 1, 1, 1, 1, 1, 1, 1, 1, 1, 1, 1, 1,\n",
       "       1, 1, 1, 1, 1, 1, 1, 1, 1, 1, 1, 1, 1, 1, 1, 1, 1, 1, 1, 1, 1, 1,\n",
       "       1, 1, 1, 1, 1, 1, 1, 1, 1, 1, 1, 1, 1, 1, 1, 1, 1, 1, 1, 1, 1, 1,\n",
       "       1, 1, 1, 1, 1, 1, 1, 1, 1, 1, 1, 1, 1, 1, 1, 1, 1, 1, 1, 1, 1, 1,\n",
       "       1, 1, 1, 1, 1, 1, 1, 1, 1, 1, 1, 1, 1, 1, 1, 1, 1, 1, 1, 1, 1, 1,\n",
       "       1, 1, 1, 1, 1, 1, 1, 1, 1, 1, 1, 1, 1, 1, 1, 1, 1, 1, 1, 1, 1, 1,\n",
       "       1, 1, 1, 0, 0, 0, 0, 0, 0, 0, 0, 0, 0, 0, 0, 0, 0, 0, 0, 0, 0, 0,\n",
       "       0, 0, 0, 0, 0, 0, 0, 0, 0, 0, 0, 0, 0, 0, 0, 0, 0, 0, 0, 0, 0, 0,\n",
       "       0, 0, 0, 0, 0, 0, 0, 0, 0, 0, 0, 0, 0, 0, 0, 0, 0, 2, 2, 2, 2, 2,\n",
       "       2, 2, 2, 2, 2, 2, 2, 2, 2, 2, 2, 2, 2, 2, 2, 2, 0, 0, 0, 0, 0, 0,\n",
       "       0, 0, 0, 0, 0, 0, 0, 0, 0, 0], dtype=int64)"
      ]
     },
     "metadata": {},
     "output_type": "display_data"
    }
   ],
   "source": [
    "y=df['status'].values\n",
    "display (y)"
   ]
  },
  {
   "cell_type": "code",
   "execution_count": 13,
   "id": "eb9e62e3-a381-43db-b473-f9b470227699",
   "metadata": {},
   "outputs": [
    {
     "name": "stdout",
     "output_type": "stream",
     "text": [
      "[[0.28768316 0.5        0.28866317]\n",
      " [0.28768316 0.5        0.28866317]\n",
      " [0.28768316 0.5        0.28866317]\n",
      " ...\n",
      " [0.20733785 0.         0.90399738]\n",
      " [0.20733785 0.         0.90399738]\n",
      " [0.04297452 0.25       0.        ]]\n"
     ]
    }
   ],
   "source": [
    "sc_x= MinMaxScaler()\n",
    "x = sc_x.fit_transform(x)\n",
    "print (x)"
   ]
  },
  {
   "cell_type": "code",
   "execution_count": 14,
   "id": "9e0055bc-3fe9-4cbb-af55-4c77cacba170",
   "metadata": {},
   "outputs": [
    {
     "data": {
      "text/plain": [
       "(607, 3)"
      ]
     },
     "metadata": {},
     "output_type": "display_data"
    },
    {
     "data": {
      "text/plain": [
       "(261, 3)"
      ]
     },
     "metadata": {},
     "output_type": "display_data"
    },
    {
     "data": {
      "text/plain": [
       "(607,)"
      ]
     },
     "metadata": {},
     "output_type": "display_data"
    },
    {
     "data": {
      "text/plain": [
       "(261,)"
      ]
     },
     "metadata": {},
     "output_type": "display_data"
    }
   ],
   "source": [
    "x_train,x_test,y_train,y_test=train_test_split(x,y,test_size=0.3,random_state=143)\n",
    "display (x_train.shape)\n",
    "display (x_test.shape)\n",
    "display (y_train.shape)\n",
    "display (y_test.shape)"
   ]
  },
  {
   "cell_type": "code",
   "execution_count": 15,
   "id": "653f8740-3b95-441e-9932-4c6690103ba7",
   "metadata": {},
   "outputs": [
    {
     "data": {
      "text/plain": [
       "[1.0,\n",
       " 1.0,\n",
       " 1.0,\n",
       " 0.9967051070840197,\n",
       " 0.9934102141680395,\n",
       " 0.9884678747940692,\n",
       " 0.9884678747940692,\n",
       " 0.9884678747940692,\n",
       " 0.9884678747940692,\n",
       " 0.9884678747940692,\n",
       " 0.9884678747940692,\n",
       " 0.9884678747940692,\n",
       " 0.9884678747940692,\n",
       " 0.9884678747940692]"
      ]
     },
     "metadata": {},
     "output_type": "display_data"
    }
   ],
   "source": [
    "accuracy=[]\n",
    "for i in range(1,15):\n",
    "    knn=KNeighborsClassifier(n_neighbors=i)\n",
    "    knn=knn.fit(x_train,y_train)\n",
    "    y_pred =knn.predict(x_train)\n",
    "    acc= accuracy_score (y_train,y_pred)\n",
    "    accuracy.append (acc)\n",
    "    \n",
    "display (accuracy)"
   ]
  },
  {
   "cell_type": "code",
   "execution_count": 16,
   "id": "0ef212b0-9432-4780-af9f-477d3a698ac2",
   "metadata": {},
   "outputs": [
    {
     "data": {
      "image/png": "[encoded data removed]",
      "text/plain": [
       "<Figure size 2000x1000 with 1 Axes>"
      ]
     },
     "metadata": {},
     "output_type": "display_data"
    }
   ],
   "source": [
    "plt.plot(range(1,15),accuracy)\n",
    "plt.show()"
   ]
  },
  {
   "cell_type": "code",
   "execution_count": 17,
   "id": "d899fd48-8856-404b-9ad4-d25ee936f647",
   "metadata": {},
   "outputs": [],
   "source": [
    "knn=KNeighborsClassifier(n_neighbors=3)\n",
    "knn=knn.fit(x_train,y_train)"
   ]
  },
  {
   "cell_type": "code",
   "execution_count": 18,
   "id": "28501668-1e50-4ee7-83b0-ef722e024f7e",
   "metadata": {},
   "outputs": [
    {
     "data": {
      "text/plain": [
       "0.9961685823754789"
      ]
     },
     "metadata": {},
     "output_type": "display_data"
    }
   ],
   "source": [
    "y_pred = knn.predict (x_test)\n",
    "display (accuracy_score(y_pred , y_test))"
   ]
  },
  {
   "cell_type": "code",
   "execution_count": 19,
   "id": "5b2e633c-9d6a-413b-be32-518928134582",
   "metadata": {},
   "outputs": [
    {
     "data": {
      "text/plain": [
       "0.9731800766283525"
      ]
     },
     "metadata": {},
     "output_type": "display_data"
    }
   ],
   "source": [
    "knn=KNeighborsClassifier(n_neighbors=10)\n",
    "knn=knn.fit(x_train,y_train)\n",
    "y_pred = knn.predict (x_test)\n",
    "display (accuracy_score(y_pred , y_test))"
   ]
  },
  {
   "cell_type": "code",
   "execution_count": 20,
   "id": "b618c16d-d7ac-4ee5-bbe3-570bb4d0319c",
   "metadata": {},
   "outputs": [
    {
     "name": "stdout",
     "output_type": "stream",
     "text": [
      "              precision    recall  f1-score   support\n",
      "\n",
      "           0       1.00      1.00      1.00       190\n",
      "           1       1.00      0.89      0.94        56\n",
      "           2       0.67      1.00      0.80        14\n",
      "           3       0.00      0.00      0.00         1\n",
      "\n",
      "    accuracy                           0.97       261\n",
      "   macro avg       0.67      0.72      0.69       261\n",
      "weighted avg       0.98      0.97      0.97       261\n",
      "\n"
     ]
    },
    {
     "name": "stderr",
     "output_type": "stream",
     "text": [
      "C:\\Users\\USER\\AppData\\Local\\Programs\\Python\\Python312\\Lib\\site-packages\\sklearn\\metrics\\_classification.py:1531: UndefinedMetricWarning: Precision is ill-defined and being set to 0.0 in labels with no predicted samples. Use `zero_division` parameter to control this behavior.\n",
      "  _warn_prf(average, modifier, f\"{metric.capitalize()} is\", len(result))\n",
      "C:\\Users\\USER\\AppData\\Local\\Programs\\Python\\Python312\\Lib\\site-packages\\sklearn\\metrics\\_classification.py:1531: UndefinedMetricWarning: Precision is ill-defined and being set to 0.0 in labels with no predicted samples. Use `zero_division` parameter to control this behavior.\n",
      "  _warn_prf(average, modifier, f\"{metric.capitalize()} is\", len(result))\n",
      "C:\\Users\\USER\\AppData\\Local\\Programs\\Python\\Python312\\Lib\\site-packages\\sklearn\\metrics\\_classification.py:1531: UndefinedMetricWarning: Precision is ill-defined and being set to 0.0 in labels with no predicted samples. Use `zero_division` parameter to control this behavior.\n",
      "  _warn_prf(average, modifier, f\"{metric.capitalize()} is\", len(result))\n"
     ]
    }
   ],
   "source": [
    "print(classification_report (y_test,y_pred))"
   ]
  },
  {
   "cell_type": "code",
   "execution_count": 23,
   "id": "d9973bb6-08b7-4c15-92d0-7d1b1964f165",
   "metadata": {},
   "outputs": [
    {
     "name": "stdout",
     "output_type": "stream",
     "text": [
      "[[190   0   0   0]\n",
      " [  0  50   6   0]\n",
      " [  0   0  14   0]\n",
      " [  0   0   1   0]]\n"
     ]
    }
   ],
   "source": [
    "cm = confusion_matrix (y_test,y_pred)\n",
    "print (cm)"
   ]
  },
  {
   "cell_type": "code",
   "execution_count": 26,
   "id": "1fbbb1ac-7b4f-4190-b375-f5ab6d2335c1",
   "metadata": {},
   "outputs": [
    {
     "name": "stdout",
     "output_type": "stream",
     "text": [
      "[0 0 1 1 1 1 2 0 1 0 0 0 1 0 0 1 0 0 0 1 0 0 0 1 0 2 0 0 1 0 0 0 0 0 0 0 1\n",
      " 1 0 1 0 0 2 0 0 1 2 0 0 0 0 0 0 1 1 0 1 0 0 0 0 0 0 2 1 1 0 0 0 0 2 0 0 0\n",
      " 0 0 0 0 2 0 2 1 0 1 0 2 0 0 1 2 0 1 1 1 0 0 0 0 0 0 0 0 0 0 0 0 0 0 1 0 0\n",
      " 0 1 0 0 0 0 1 0 0 0 0 0 2 1 0 0 1 0 0 0 0 0 0 0 1 0 0 0 0 0 0 0 0 0 0 0 0\n",
      " 0 0 0 0 0 0 0 0 0 0 0 0 0 2 0 0 0 1 0 0 0 1 1 0 0 0 0 1 1 0 0 0 0 0 0 1 0\n",
      " 0 0 1 2 1 1 0 0 0 0 0 0 0 0 0 1 0 0 0 1 0 0 0 0 0 0 0 1 0 0 0 1 0 0 1 2 0\n",
      " 1 0 1 0 0 1 1 0 1 0 0 0 1 0 1 0 0 0 0 0 0 0 1 0 1 0 0 0 0 0 2 0 0 0 1 0 0\n",
      " 1 0]\n",
      "     0\n",
      "0     \n",
      "0  190\n",
      "1   56\n",
      "2   15\n"
     ]
    }
   ],
   "source": [
    "TREE = DecisionTreeClassifier(criterion='entropy')\n",
    "TREE.fit(x_train,y_train)\n",
    "TREE_pred = TREE.predict(x_test)\n",
    "print(TREE_pred)\n",
    "print(pd.DataFrame(TREE_pred).groupby(0).agg({0:np.size}))"
   ]
  },
  {
   "cell_type": "code",
   "execution_count": 27,
   "id": "b5e32b65-b42b-4cd9-97a5-464223199f4a",
   "metadata": {},
   "outputs": [
    {
     "name": "stdout",
     "output_type": "stream",
     "text": [
      "\n",
      " Accuracy Score\n",
      "0.9961685823754789\n"
     ]
    }
   ],
   "source": [
    "print('\\n Accuracy Score')\n",
    "print(accuracy_score(y_test,TREE_pred))"
   ]
  },
  {
   "cell_type": "code",
   "execution_count": 28,
   "id": "6f3fa0c0-4772-4ed9-85bd-19499d94bd20",
   "metadata": {},
   "outputs": [
    {
     "name": "stdout",
     "output_type": "stream",
     "text": [
      "\n",
      "Classification Report\n",
      "              precision    recall  f1-score   support\n",
      "\n",
      "           0       1.00      1.00      1.00       190\n",
      "           1       1.00      1.00      1.00        56\n",
      "           2       0.93      1.00      0.97        14\n",
      "           3       0.00      0.00      0.00         1\n",
      "\n",
      "    accuracy                           1.00       261\n",
      "   macro avg       0.73      0.75      0.74       261\n",
      "weighted avg       0.99      1.00      0.99       261\n",
      "\n"
     ]
    },
    {
     "name": "stderr",
     "output_type": "stream",
     "text": [
      "C:\\Users\\USER\\AppData\\Local\\Programs\\Python\\Python312\\Lib\\site-packages\\sklearn\\metrics\\_classification.py:1531: UndefinedMetricWarning: Precision is ill-defined and being set to 0.0 in labels with no predicted samples. Use `zero_division` parameter to control this behavior.\n",
      "  _warn_prf(average, modifier, f\"{metric.capitalize()} is\", len(result))\n",
      "C:\\Users\\USER\\AppData\\Local\\Programs\\Python\\Python312\\Lib\\site-packages\\sklearn\\metrics\\_classification.py:1531: UndefinedMetricWarning: Precision is ill-defined and being set to 0.0 in labels with no predicted samples. Use `zero_division` parameter to control this behavior.\n",
      "  _warn_prf(average, modifier, f\"{metric.capitalize()} is\", len(result))\n",
      "C:\\Users\\USER\\AppData\\Local\\Programs\\Python\\Python312\\Lib\\site-packages\\sklearn\\metrics\\_classification.py:1531: UndefinedMetricWarning: Precision is ill-defined and being set to 0.0 in labels with no predicted samples. Use `zero_division` parameter to control this behavior.\n",
      "  _warn_prf(average, modifier, f\"{metric.capitalize()} is\", len(result))\n"
     ]
    }
   ],
   "source": [
    "print('\\nClassification Report')\n",
    "print(classification_report (y_test,TREE_pred))"
   ]
  },
  {
   "cell_type": "code",
   "execution_count": 29,
   "id": "b61d06c8-f1b4-4275-bcf1-ee92a935eb4a",
   "metadata": {},
   "outputs": [
    {
     "name": "stdout",
     "output_type": "stream",
     "text": [
      "Confusion Matrix\n",
      "[[190   0   0   0]\n",
      " [  0  56   0   0]\n",
      " [  0   0  14   0]\n",
      " [  0   0   1   0]]\n"
     ]
    }
   ],
   "source": [
    "print('Confusion Matrix')\n",
    "print (confusion_matrix (y_test,TREE_pred))"
   ]
  },
  {
   "cell_type": "code",
   "execution_count": 30,
   "id": "299b8bbd-44b9-410e-8de5-4138c872c47c",
   "metadata": {},
   "outputs": [
    {
     "name": "stdout",
     "output_type": "stream",
     "text": [
      "[0 0 1 1 1 1 2 0 1 0 0 0 1 0 0 1 0 0 0 1 0 0 0 1 0 2 0 0 1 0 0 0 0 0 0 0 1\n",
      " 1 0 1 0 0 2 0 0 1 2 0 0 0 0 0 0 1 1 0 1 0 0 0 0 0 0 2 1 1 0 0 0 0 2 0 0 0\n",
      " 0 0 0 0 2 0 2 1 0 1 0 2 0 0 1 1 0 1 1 1 0 0 0 0 0 0 0 0 0 0 0 0 0 0 1 0 0\n",
      " 0 1 0 0 0 0 1 0 0 0 0 0 2 1 0 0 1 0 0 0 0 0 0 0 1 0 0 0 0 0 0 0 0 0 0 0 0\n",
      " 0 0 0 0 0 0 0 0 0 0 0 0 0 2 0 0 0 1 0 0 0 1 1 0 0 0 0 1 1 0 0 0 0 0 0 1 0\n",
      " 0 0 1 2 1 1 0 0 0 0 0 0 0 0 0 1 0 0 0 1 0 0 0 0 0 0 0 1 0 0 0 1 0 0 1 2 0\n",
      " 1 0 1 0 0 1 1 0 1 0 0 0 1 0 1 0 0 0 0 0 0 0 1 0 1 0 0 0 0 0 2 0 0 0 1 0 0\n",
      " 1 0]\n",
      "     0\n",
      "0     \n",
      "0  190\n",
      "1   57\n",
      "2   14\n"
     ]
    }
   ],
   "source": [
    "TREE = DecisionTreeClassifier (criterion = 'gini')\n",
    "TREE.fit(x_train,y_train)\n",
    "TREE_pred = TREE.predict(x_test)\n",
    "print (TREE_pred)\n",
    "print (pd.DataFrame(TREE_pred).groupby(0).agg({0:np.size}))"
   ]
  },
  {
   "cell_type": "code",
   "execution_count": 31,
   "id": "2a4428d8-ef9b-407d-aa61-d48fd766d0ab",
   "metadata": {},
   "outputs": [
    {
     "name": "stdout",
     "output_type": "stream",
     "text": [
      "\n",
      " Accuracy Score\n",
      "0.9961685823754789\n"
     ]
    }
   ],
   "source": [
    "print('\\n Accuracy Score')\n",
    "print (accuracy_score (y_test,TREE_pred))"
   ]
  },
  {
   "cell_type": "code",
   "execution_count": 32,
   "id": "8b3bc777-0d16-46c9-9c1b-1a969ff2efbf",
   "metadata": {},
   "outputs": [
    {
     "name": "stdout",
     "output_type": "stream",
     "text": [
      "\n",
      "Classification Report\n",
      "              precision    recall  f1-score   support\n",
      "\n",
      "           0       1.00      1.00      1.00       190\n",
      "           1       0.98      1.00      0.99        56\n",
      "           2       1.00      1.00      1.00        14\n",
      "           3       0.00      0.00      0.00         1\n",
      "\n",
      "    accuracy                           1.00       261\n",
      "   macro avg       0.75      0.75      0.75       261\n",
      "weighted avg       0.99      1.00      0.99       261\n",
      "\n"
     ]
    },
    {
     "name": "stderr",
     "output_type": "stream",
     "text": [
      "C:\\Users\\USER\\AppData\\Local\\Programs\\Python\\Python312\\Lib\\site-packages\\sklearn\\metrics\\_classification.py:1531: UndefinedMetricWarning: Precision is ill-defined and being set to 0.0 in labels with no predicted samples. Use `zero_division` parameter to control this behavior.\n",
      "  _warn_prf(average, modifier, f\"{metric.capitalize()} is\", len(result))\n",
      "C:\\Users\\USER\\AppData\\Local\\Programs\\Python\\Python312\\Lib\\site-packages\\sklearn\\metrics\\_classification.py:1531: UndefinedMetricWarning: Precision is ill-defined and being set to 0.0 in labels with no predicted samples. Use `zero_division` parameter to control this behavior.\n",
      "  _warn_prf(average, modifier, f\"{metric.capitalize()} is\", len(result))\n",
      "C:\\Users\\USER\\AppData\\Local\\Programs\\Python\\Python312\\Lib\\site-packages\\sklearn\\metrics\\_classification.py:1531: UndefinedMetricWarning: Precision is ill-defined and being set to 0.0 in labels with no predicted samples. Use `zero_division` parameter to control this behavior.\n",
      "  _warn_prf(average, modifier, f\"{metric.capitalize()} is\", len(result))\n"
     ]
    }
   ],
   "source": [
    "print('\\nClassification Report')\n",
    "print(classification_report (y_test,TREE_pred))"
   ]
  },
  {
   "cell_type": "code",
   "execution_count": 33,
   "id": "61eae525-dc03-45ed-b9e6-9f82e2ba75dc",
   "metadata": {},
   "outputs": [
    {
     "name": "stdout",
     "output_type": "stream",
     "text": [
      "Confusion Matrix\n",
      "[[190   0   0   0]\n",
      " [  0  56   0   0]\n",
      " [  0   0  14   0]\n",
      " [  0   1   0   0]]\n"
     ]
    }
   ],
   "source": [
    "print('Confusion Matrix')\n",
    "print (confusion_matrix (y_test,TREE_pred))"
   ]
  },
  {
   "cell_type": "code",
   "execution_count": 34,
   "id": "7f751232-cdbe-4518-981b-c4f3f0707642",
   "metadata": {},
   "outputs": [
    {
     "name": "stdout",
     "output_type": "stream",
     "text": [
      "[0 0 1 1 1 1 2 0 1 0 0 0 1 0 0 1 0 0 0 1 0 0 0 1 0 2 0 0 1 0 0 0 0 0 0 0 1\n",
      " 1 0 1 0 0 2 0 0 1 2 0 0 0 0 0 0 1 1 0 1 0 0 0 0 0 0 2 1 1 0 0 0 0 2 0 0 0\n",
      " 0 0 0 0 2 0 2 1 0 1 0 2 0 0 1 1 0 1 1 1 0 0 0 0 0 0 0 0 0 0 0 0 0 0 1 0 0\n",
      " 0 1 0 0 0 0 1 0 0 0 0 0 2 1 0 0 1 0 0 0 0 0 0 0 1 0 0 0 0 0 0 0 0 0 0 0 0\n",
      " 0 0 0 0 0 0 0 0 0 0 0 0 0 2 0 0 0 1 0 0 0 1 1 0 0 0 0 1 1 0 0 0 0 0 0 1 0\n",
      " 0 0 1 2 1 1 0 0 0 0 0 0 0 0 0 1 0 0 0 1 0 0 0 0 0 0 0 1 0 0 0 1 0 0 1 2 0\n",
      " 1 0 1 0 0 1 1 0 1 0 0 0 1 0 1 0 0 0 0 0 0 0 1 0 1 0 0 0 0 0 2 0 0 0 1 0 0\n",
      " 1 0]\n",
      "     0\n",
      "0     \n",
      "0  190\n",
      "1   57\n",
      "2   14\n"
     ]
    }
   ],
   "source": [
    "RF = RandomForestClassifier(n_estimators=50, criterion='entropy')\n",
    "RF.fit(x_train,y_train)\n",
    "RF_pred = RF.predict(x_test)\n",
    "print (RF_pred)\n",
    "print (pd.DataFrame(RF_pred).groupby(0).agg({0:np.size}))"
   ]
  },
  {
   "cell_type": "code",
   "execution_count": 35,
   "id": "e860b2de-9320-45c4-bcf8-e20e081cb30f",
   "metadata": {},
   "outputs": [
    {
     "name": "stdout",
     "output_type": "stream",
     "text": [
      "\n",
      " Accuracy Score\n",
      "0.9961685823754789\n"
     ]
    }
   ],
   "source": [
    "print('\\n Accuracy Score')\n",
    "print (accuracy_score (y_test,RF_pred))"
   ]
  },
  {
   "cell_type": "code",
   "execution_count": 36,
   "id": "3a476f22-6cb9-4c77-9de6-9762387feba9",
   "metadata": {},
   "outputs": [
    {
     "name": "stdout",
     "output_type": "stream",
     "text": [
      "\n",
      "Classification Report\n",
      "              precision    recall  f1-score   support\n",
      "\n",
      "           0       1.00      1.00      1.00       190\n",
      "           1       0.98      1.00      0.99        56\n",
      "           2       1.00      1.00      1.00        14\n",
      "           3       0.00      0.00      0.00         1\n",
      "\n",
      "    accuracy                           1.00       261\n",
      "   macro avg       0.75      0.75      0.75       261\n",
      "weighted avg       0.99      1.00      0.99       261\n",
      "\n"
     ]
    },
    {
     "name": "stderr",
     "output_type": "stream",
     "text": [
      "C:\\Users\\USER\\AppData\\Local\\Programs\\Python\\Python312\\Lib\\site-packages\\sklearn\\metrics\\_classification.py:1531: UndefinedMetricWarning: Precision is ill-defined and being set to 0.0 in labels with no predicted samples. Use `zero_division` parameter to control this behavior.\n",
      "  _warn_prf(average, modifier, f\"{metric.capitalize()} is\", len(result))\n",
      "C:\\Users\\USER\\AppData\\Local\\Programs\\Python\\Python312\\Lib\\site-packages\\sklearn\\metrics\\_classification.py:1531: UndefinedMetricWarning: Precision is ill-defined and being set to 0.0 in labels with no predicted samples. Use `zero_division` parameter to control this behavior.\n",
      "  _warn_prf(average, modifier, f\"{metric.capitalize()} is\", len(result))\n",
      "C:\\Users\\USER\\AppData\\Local\\Programs\\Python\\Python312\\Lib\\site-packages\\sklearn\\metrics\\_classification.py:1531: UndefinedMetricWarning: Precision is ill-defined and being set to 0.0 in labels with no predicted samples. Use `zero_division` parameter to control this behavior.\n",
      "  _warn_prf(average, modifier, f\"{metric.capitalize()} is\", len(result))\n"
     ]
    }
   ],
   "source": [
    "print('\\nClassification Report')\n",
    "print(classification_report (y_test,RF_pred))"
   ]
  },
  {
   "cell_type": "code",
   "execution_count": 37,
   "id": "a7fb49c6-41ef-44e8-85b9-79d6cbd5399f",
   "metadata": {},
   "outputs": [
    {
     "name": "stdout",
     "output_type": "stream",
     "text": [
      "Confusion Matrix\n",
      "[[190   0   0   0]\n",
      " [  0  56   0   0]\n",
      " [  0   0  14   0]\n",
      " [  0   1   0   0]]\n"
     ]
    }
   ],
   "source": [
    "print('Confusion Matrix')\n",
    "print (confusion_matrix (y_test,RF_pred))"
   ]
  },
  {
   "cell_type": "code",
   "execution_count": 38,
   "id": "820c1731-c6b0-4d31-8f38-40df6f0c6f6d",
   "metadata": {},
   "outputs": [
    {
     "name": "stdout",
     "output_type": "stream",
     "text": [
      "[0 0 1 1 1 1 0 0 1 0 0 0 1 0 0 1 0 0 0 1 0 0 0 0 0 0 0 0 1 0 0 0 0 0 0 0 1\n",
      " 1 0 1 0 0 0 0 0 1 0 0 0 0 0 0 0 1 0 0 1 0 0 0 0 0 0 0 1 1 0 0 0 0 0 0 1 0\n",
      " 0 0 0 0 0 0 0 1 0 1 0 0 0 0 1 0 0 1 1 1 0 0 0 0 0 0 0 0 0 0 0 0 0 0 0 0 0\n",
      " 0 1 0 0 0 0 1 0 0 0 0 0 0 0 0 0 1 0 0 0 0 0 0 0 1 0 0 0 0 0 0 0 0 0 0 0 0\n",
      " 0 0 0 0 0 0 0 0 0 0 0 0 0 0 0 0 0 1 0 0 0 1 1 0 0 0 0 1 1 0 0 0 0 0 0 1 0\n",
      " 0 0 1 0 1 1 0 0 0 0 0 0 0 0 0 1 0 0 0 1 0 0 0 0 0 0 0 1 0 1 0 1 0 0 1 0 0\n",
      " 1 0 1 0 0 1 1 0 0 0 0 0 1 0 1 0 0 0 0 0 0 0 1 0 0 0 0 0 0 0 0 0 0 0 1 0 0\n",
      " 1 0]\n",
      "     0\n",
      "0     \n",
      "0  209\n",
      "1   52\n"
     ]
    }
   ],
   "source": [
    "logmodel = LogisticRegression()\n",
    "logmodel.fit(x_train, y_train)\n",
    "log_pred = logmodel.predict(x_test)\n",
    "print (log_pred)\n",
    "print (pd.DataFrame(log_pred).groupby(0).agg({0: np.size}))"
   ]
  },
  {
   "cell_type": "code",
   "execution_count": 39,
   "id": "67f2f954-7544-4b3e-9deb-7b530cf30f4a",
   "metadata": {},
   "outputs": [
    {
     "name": "stdout",
     "output_type": "stream",
     "text": [
      "\n",
      " Accuracy Score\n",
      "0.9118773946360154\n"
     ]
    }
   ],
   "source": [
    "print('\\n Accuracy Score')\n",
    "print (accuracy_score (y_test,log_pred))"
   ]
  },
  {
   "cell_type": "code",
   "execution_count": 40,
   "id": "30be25d2-47d7-4675-8a74-8a29ed1efcdc",
   "metadata": {},
   "outputs": [
    {
     "name": "stdout",
     "output_type": "stream",
     "text": [
      "\n",
      "Classification Report\n",
      "              precision    recall  f1-score   support\n",
      "\n",
      "           0       0.90      0.99      0.94       190\n",
      "           1       0.96      0.89      0.93        56\n",
      "           2       0.00      0.00      0.00        14\n",
      "           3       0.00      0.00      0.00         1\n",
      "\n",
      "    accuracy                           0.91       261\n",
      "   macro avg       0.47      0.47      0.47       261\n",
      "weighted avg       0.86      0.91      0.88       261\n",
      "\n"
     ]
    },
    {
     "name": "stderr",
     "output_type": "stream",
     "text": [
      "C:\\Users\\USER\\AppData\\Local\\Programs\\Python\\Python312\\Lib\\site-packages\\sklearn\\metrics\\_classification.py:1531: UndefinedMetricWarning: Precision is ill-defined and being set to 0.0 in labels with no predicted samples. Use `zero_division` parameter to control this behavior.\n",
      "  _warn_prf(average, modifier, f\"{metric.capitalize()} is\", len(result))\n",
      "C:\\Users\\USER\\AppData\\Local\\Programs\\Python\\Python312\\Lib\\site-packages\\sklearn\\metrics\\_classification.py:1531: UndefinedMetricWarning: Precision is ill-defined and being set to 0.0 in labels with no predicted samples. Use `zero_division` parameter to control this behavior.\n",
      "  _warn_prf(average, modifier, f\"{metric.capitalize()} is\", len(result))\n",
      "C:\\Users\\USER\\AppData\\Local\\Programs\\Python\\Python312\\Lib\\site-packages\\sklearn\\metrics\\_classification.py:1531: UndefinedMetricWarning: Precision is ill-defined and being set to 0.0 in labels with no predicted samples. Use `zero_division` parameter to control this behavior.\n",
      "  _warn_prf(average, modifier, f\"{metric.capitalize()} is\", len(result))\n"
     ]
    }
   ],
   "source": [
    "print('\\nClassification Report')\n",
    "print(classification_report (y_test,log_pred))"
   ]
  },
  {
   "cell_type": "code",
   "execution_count": 41,
   "id": "e978ce6c-331d-4b83-aa30-25c97782b363",
   "metadata": {},
   "outputs": [
    {
     "name": "stdout",
     "output_type": "stream",
     "text": [
      "Confusion Matrix\n",
      "[[188   2   0   0]\n",
      " [  6  50   0   0]\n",
      " [ 14   0   0   0]\n",
      " [  1   0   0   0]]\n"
     ]
    }
   ],
   "source": [
    "print('Confusion Matrix')\n",
    "print (confusion_matrix (y_test,log_pred))"
   ]
  },
  {
   "cell_type": "code",
   "execution_count": null,
   "id": "b5a6bf1f-410f-4f12-b0cf-f4c367e87a7a",
   "metadata": {},
   "outputs": [],
   "source": []
  }
 ],
 "metadata": {
  "kernelspec": {
   "display_name": "Python 3 (ipykernel)",
   "language": "python",
   "name": "python3"
  },
  "language_info": {
   "codemirror_mode": {
    "name": "ipython",
    "version": 3
   },
   "file_extension": ".py",
   "mimetype": "text/x-python",
   "name": "python",
   "nbconvert_exporter": "python",
   "pygments_lexer": "ipython3",
   "version": "3.7.12"
  }
 },
 "nbformat": 4,
 "nbformat_minor": 5
}
